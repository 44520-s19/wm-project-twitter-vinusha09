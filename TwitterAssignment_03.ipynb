{
 "cells": [
  {
   "cell_type": "markdown",
   "metadata": {},
   "source": [
    "# Vinusha Sandadi\n",
    "Twitter Accounts\n",
    "\n",
    "Virat Kohli\n\n",
    "Virender Sehwag\n\n",
    "Sachin Tendulkar\n"
   ]
  },
  {
   "cell_type": "markdown",
   "metadata": {},
   "source": [
    "## Pickle file creation"
   ]
  },
  {
   "cell_type": "code",
   "execution_count": 1,
   "metadata": {},
   "outputs": [],
   "source": [
    "# virat_kohli\n",
    "\n",
    "import tweepy\n",
    "import pickle\n",
    "\n",
    "from twitter_keys import consumer_key,consumer_secret,access_token,access_secret\n",
    "\n",
    "auth=tweepy.OAuthHandler(consumer_key,consumer_secret)\n",
    "auth.set_access_token(access_token,access_secret)\n",
    "\n",
    "api = tweepy.API(auth)\n",
    "\n",
    "tweets_virat = api.user_timeline('@imVkohli')\n",
    "\n",
    "with open('virat_kohli.pkl','wb') as f:\n",
    "    pickle.dump(tweets_virat,f)  \n",
    "    \n",
    "tweets_sehwag = api.user_timeline('@virendersehwag')\n",
    "\n",
    "with open('sehwag_virender.pkl','wb') as f:\n",
    "    pickle.dump(tweets_sehwag,f)  \n",
    "    \n",
    "tweets_sachin = api.user_timeline('@sachin_rt')\n",
    "\n",
    "with open('sachin_tendulkar.pkl','wb') as f:\n",
    "    pickle.dump(tweets_sachin,f)  "
   ]
  },
  {
   "cell_type": "markdown",
   "metadata": {},
   "source": [
    "## Loading the pickle files"
   ]
  },
  {
   "cell_type": "code",
   "execution_count": 2,
   "metadata": {},
   "outputs": [],
   "source": [
    " #virat\n",
    "\n",
    "import pickle\n",
    "with open('virat_kohli.pkl','rb') as f:\n",
    "    tweets_virat=pickle.load(f)\n",
    "\n",
    "# sehwag\n",
    "with open('sehwag_virender.pkl','rb') as f:\n",
    "    tweets_sehwag=pickle.load(f)\n",
    "\n",
    "# sachin\n",
    "with open('sachin_tendulkar.pkl','rb') as f:\n",
    "    tweets_sachin=pickle.load(f)\n",
    "\n"
   ]
  },
  {
   "cell_type": "markdown",
   "metadata": {},
   "source": [
    "## Lexical Diversities"
   ]
  },
  {
   "cell_type": "code",
   "execution_count": 3,
   "metadata": {},
   "outputs": [],
   "source": [
    "def lexical_diversity(text):\n",
    "    tokens = text.lower().split()\n",
    "    return len(tokens)\n"
   ]
  },
  {
   "cell_type": "code",
   "execution_count": 4,
   "metadata": {},
   "outputs": [
    {
     "name": "stdout",
     "output_type": "stream",
     "text": [
      "\n",
      "virat's diversities: [21, 8, 21, 7, 22, 9, 5, 9, 20, 9, 21, 8, 9, 16, 5, 4, 7, 21, 19, 16]\n",
      "virat's avg: 12.85\n",
      "\n",
      "sehwag's diversities: [25, 19, 22, 12, 2, 4, 21, 19, 8, 21, 21, 20, 18, 22, 14, 16, 22, 23, 15, 22]\n",
      "sehwag's avg: 17.3\n",
      "\n",
      "sachin's diversities: [21, 14, 20, 8, 17, 16, 17, 21, 24, 12, 21, 14, 17, 21, 20, 18, 24, 20, 12, 8]\n",
      "sachin's avg: 17.25\n"
     ]
    }
   ],
   "source": [
    "diversities_1 = []\n",
    "for tweet in tweets_virat:\n",
    "    diversities_1.append(lexical_diversity(tweet.text))   \n",
    "print()\n",
    "print(\"virat's diversities:\",diversities_1)\n",
    "#print(\"Minimum of virat's diversities:\",min(diversities_1))\n",
    "Avg1 = sum(diversities_1) / len(diversities_1)\n",
    "print(\"virat's avg:\", Avg1)\n",
    "\n",
    "\n",
    "diversities_2= []\n",
    "for tweet in tweets_sehwag:\n",
    "    diversities_2.append(lexical_diversity(tweet.text))\n",
    "print()\n",
    "print(\"sehwag's diversities:\",diversities_2)\n",
    "\n",
    "\n",
    "#print(\"Minimum of sehwag's diversities:\",min(diversities_2))\n",
    "\n",
    "Avg2 = sum(diversities_2) / len(diversities_2)\n",
    "print(\"sehwag's avg:\", Avg2)\n",
    "\n",
    "diversities_3 = []\n",
    "for tweet in tweets_sachin:\n",
    "    diversities_3.append(lexical_diversity(tweet.text))\n",
    "print()\n",
    "print(\"sachin's diversities:\",diversities_3)\n",
    "#print(\"Minimum of sachin's diversities:\",min(diversities_3))\n",
    "Avg3 = sum(diversities_3) / len(diversities_3)\n",
    "print(\"sachin's avg:\", Avg3)\n",
    "\n",
    "\n",
    "\n",
    "AccntsAvg ={\n",
    "  \"Account1\": Avg1,\n",
    "  \"Account2\": Avg2,\n",
    "  \"Account3\": Avg3\n",
    "}"
   ]
  },
  {
   "cell_type": "markdown",
   "metadata": {},
   "source": [
    "## Conclusion"
   ]
  },
  {
   "cell_type": "markdown",
   "metadata": {},
   "source": [
    "The above is the diversities length and average length of each person."
   ]
  },
  {
   "cell_type": "code",
   "execution_count": 6,
   "metadata": {},
   "outputs": [
    {
     "name": "stdout",
     "output_type": "stream",
     "text": [
      "[17.3, 17.25, 12.85]\n",
      "['Account2', 'Account3', 'Account1']\n"
     ]
    },
    {
     "data": {
      "image/png": "[encoded data removed]",
      "text/plain": [
       "<Figure size 432x288 with 1 Axes>"
      ]
     },
     "metadata": {
      "needs_background": "light"
     },
     "output_type": "display_data"
    }
   ],
   "source": [
    "import matplotlib.pyplot as plt\n",
    "#from matplotlib.ticker() import ScalarFormatter \n",
    "\n",
    "NUM_VALUES = 3\n",
    "\n",
    "heights=list(AccntsAvg.values())\n",
    "heights.sort(reverse=True)\n",
    "print(heights)\n",
    "plt.bar(range(3), heights)\n",
    "plt.title('Account Lexical Length Averages')\n",
    "plt.ylabel('#Average')\n",
    "keys = list(AccntsAvg.keys())\n",
    "keys.sort(reverse=True, key=lambda x: AccntsAvg[x])\n",
    "print(keys)\n",
    "plt.xticks(range((NUM_VALUES)),keys[:NUM_VALUES])\n",
    "\n",
    "#plt.gca().yaxis.set_major_formatter(ScalarFormatter()) \n",
    "#plt.yscale(\"log\") \n",
    "plt.show()\n"
   ]
  },
  {
   "cell_type": "markdown",
   "metadata": {},
   "source": [
    "## Conclusion"
   ]
  },
  {
   "cell_type": "markdown",
   "metadata": {},
   "source": [
    "The above histogram represents the average length of each individual, account2 and account3 has same length."
   ]
  },
  {
   "cell_type": "markdown",
   "metadata": {},
   "source": [
    "## Sentiment Analysis\n"
   ]
  },
  {
   "cell_type": "code",
   "execution_count": 7,
   "metadata": {},
   "outputs": [
    {
     "name": "stderr",
     "output_type": "stream",
     "text": [
      "[nltk_data] Downloading package vader_lexicon to\n",
      "[nltk_data]     C:\\Users\\s534744\\AppData\\Roaming\\nltk_data...\n",
      "[nltk_data]   Package vader_lexicon is already up-to-date!\n"
     ]
    },
    {
     "name": "stdout",
     "output_type": "stream",
     "text": [
      "\n"
     ]
    },
    {
     "data": {
      "image/png": "[encoded data removed]",
      "text/plain": [
       "<Figure size 432x288 with 1 Axes>"
      ]
     },
     "metadata": {
      "needs_background": "light"
     },
     "output_type": "display_data"
    },
    {
     "name": "stdout",
     "output_type": "stream",
     "text": [
      "\n"
     ]
    },
    {
     "data": {
      "image/png": "[encoded data removed]",
      "text/plain": [
       "<Figure size 432x288 with 1 Axes>"
      ]
     },
     "metadata": {
      "needs_background": "light"
     },
     "output_type": "display_data"
    }
   ],
   "source": [
    "from nltk_helpers import get_sentiments\n",
    "from nltk_helpers import split_sentiments \n",
    "\n",
    "from mpl_toolkits.mplot3d import Axes3D\n",
    "import matplotlib.pyplot as plt\n",
    "\n",
    "#build our figure\n",
    "fig_a = plt.figure()\n",
    "# build the axes\n",
    "ax = fig_a.add_subplot(111, projection='3d')\n",
    "\n",
    "sentiments = [get_sentiments(tweet.text) for tweet in tweets_virat]\n",
    "\n",
    "# build our xs, ys, and zs\n",
    "xs = []\n",
    "for sent in sentiments:\n",
    "    xs.append(sent['neg'])\n",
    "\n",
    "ys = [sent['neu'] for sent in sentiments]\n",
    "zs = list(map(lambda x: x['pos'], sentiments))\n",
    "\n",
    "ax.scatter(xs, ys, zs)\n",
    "\n",
    "#add another set of data\n",
    "#nx.add_subplot(ax)\n",
    "\n",
    "\n",
    "sehwagX, sehwagY, sehwagZ = split_sentiments([get_sentiments(tweet.text) for tweet in tweets_sehwag])\n",
    "ax.scatter(sehwagX, sehwagY, sehwagZ, color='r', marker='^')\n",
    "\n",
    "sachinX, sachinY, sachinZ = split_sentiments([get_sentiments(tweet.text) for tweet in tweets_sachin])\n",
    "ax.scatter(sachinX, sachinY, sachinZ, color='g', marker='^')\n",
    "\n",
    "ax.set_xlabel('Negative')\n",
    "ax.set_ylabel('Neutral')\n",
    "ax.set_ylabel('Positive')\n",
    "\n",
    "print()\n",
    "plt.show()\n",
    "print()\n",
    "\n",
    "\n",
    "plt.scatter(xs, zs, label='Virat')\n",
    "plt.scatter(sehwagX, sehwagZ,color='r', marker='s', label='Sachin')\n",
    "plt.scatter(sachinX, sachinY,color='g', marker='s', label='Sehwag')\n",
    "\n",
    "plt.xlabel('Negative')\n",
    "plt.ylabel('Positive')\n",
    "plt.title('Positive vs Negative Sentiments')\n",
    "plt.legend(loc='upper right', shadow=True)\n",
    "\n",
    "plt.show()\n"
   ]
  },
  {
   "cell_type": "markdown",
   "metadata": {},
   "source": [
    "## Conclusion"
   ]
  },
  {
   "cell_type": "markdown",
   "metadata": {},
   "source": [
    "We can Conclude that, most of the tweets made by all the three people are all positive. Few tweets made by virat are negative compared to others."
   ]
  },
  {
   "cell_type": "markdown",
   "metadata": {},
   "source": [
    "## Devices Used"
   ]
  },
  {
   "cell_type": "code",
   "execution_count": 8,
   "metadata": {},
   "outputs": [
    {
     "name": "stdout",
     "output_type": "stream",
     "text": [
      "\n",
      "Devices Used by Virat\n",
      "['Twitter for Android', 'Twitter for Android', 'Twitter for Android', 'Twitter for Android', 'Twitter for Android', 'Twitter for Android', 'Twitter for Android', 'Twitter for Android', 'Twitter for Android', 'Twitter for Android', 'Twitter for Android', 'Twitter for Android', 'Twitter for Android', 'Twitter for Android', 'Twitter for Android', 'Twitter for Android', 'Twitter for Android', 'Twitter for Android', 'Twitter for Android', 'Twitter for Android']\n",
      "\n",
      "\n",
      "Devices Used by Sehwag\n",
      "['Twitter for Android', 'Twitter for iPhone', 'Twitter for iPhone', 'Twitter for iPhone', 'Twitter for iPhone', 'Twitter for iPhone', 'Twitter for iPhone', 'Twitter for iPhone', 'Twitter for iPhone', 'Twitter for iPhone', 'Twitter for Android', 'Twitter for iPhone', 'Twitter for iPhone', 'Twitter for iPhone', 'Twitter for iPhone', 'Twitter for Android', 'Twitter for iPhone', 'Twitter for iPhone', 'Twitter for iPhone', 'Twitter for Android']\n",
      "\n",
      "\n",
      "Devices Used by Sachin\n",
      "['Twitter for Android', 'Twitter for Android', 'Twitter for Android', 'Twitter for Android', 'Twitter for Android', 'Twitter for Android', 'Twitter for Android', 'Twitter for Android', 'Twitter for Android', 'Twitter for Android', 'Twitter for Android', 'Twitter for Android', 'Twitter for Android', 'Twitter for Android', 'Twitter for Android', 'Twitter for Android', 'Twitter for Android', 'Twitter for Android', 'Twitter for Android', 'Twitter for Android']\n",
      "\n",
      "Devices Used by virat ['Twitter for Android']\n",
      "Devices Used by sehwag ['Twitter for Android', 'Twitter for iPhone']\n",
      "Devices Used by sachin ['Twitter for Android']\n"
     ]
    }
   ],
   "source": [
    "import collections\n",
    "def devices_Used(devices):\n",
    "    counter = collections.Counter(devices)\n",
    "    return counter \n",
    "\n",
    "virat_devices = []\n",
    "for tweet in tweets_virat:\n",
    "    virat_devices.append(tweet.source)\n",
    "print()   \n",
    "print(\"Devices Used by Virat\")\n",
    "print(virat_devices)\n",
    "print() \n",
    "\n",
    "sehwag_devices = []\n",
    "for tweet in tweets_sehwag:\n",
    "    sehwag_devices.append(tweet.source)\n",
    "print()   \n",
    "print(\"Devices Used by Sehwag\")\n",
    "print(sehwag_devices)\n",
    "print() \n",
    "\n",
    "sachin_devices = []\n",
    "for tweet in tweets_sachin:\n",
    "    sachin_devices.append(tweet.source)\n",
    "print()   \n",
    "print(\"Devices Used by Sachin\")\n",
    "print(sachin_devices)\n",
    "print() \n",
    "\n",
    "print(\"Devices Used by virat\",list(devices_Used(virat_devices)))\n",
    "print(\"Devices Used by sehwag\",list(devices_Used(sehwag_devices)))\n",
    "print(\"Devices Used by sachin\",list(devices_Used(sachin_devices)))\n"
   ]
  },
  {
   "cell_type": "markdown",
   "metadata": {},
   "source": [
    "## Conclusion"
   ]
  },
  {
   "cell_type": "markdown",
   "metadata": {},
   "source": [
    "Twitter for android is the most commonly used device by the three people."
   ]
  }
 ],
 "metadata": {
  "kernelspec": {
   "display_name": "Python 3",
   "language": "python",
   "name": "python3"
  },
  "language_info": {
   "codemirror_mode": {
    "name": "ipython",
    "version": 3
   },
   "file_extension": ".py",
   "mimetype": "text/x-python",
   "name": "python",
   "nbconvert_exporter": "python",
   "pygments_lexer": "ipython3",
   "version": "3.7.3"
  }
 },
 "nbformat": 4,
 "nbformat_minor": 2
}
